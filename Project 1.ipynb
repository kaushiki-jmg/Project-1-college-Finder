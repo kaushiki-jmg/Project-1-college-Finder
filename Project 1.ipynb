{
 "cells": [
  {
   "cell_type": "markdown",
   "id": "f0579fbf",
   "metadata": {},
   "source": [
    "# Entering Students by User"
   ]
  },
  {
   "cell_type": "code",
   "execution_count": 1,
   "id": "996d6661",
   "metadata": {},
   "outputs": [
    {
     "name": "stdout",
     "output_type": "stream",
     "text": [
      "Enter the student name: Kaushiki\n",
      "Enter Kaushiki's class: 12\n",
      "Enter Kaushiki's class division: A\n",
      "Enter the roll number of Kaushiki: 16\n",
      "Enter Kaushiki's mark in Maths: 100\n",
      "Enter Kaushiki's mark in Physics: 98\n",
      "Enter Kaushiki's mark in Chemistry: 99\n"
     ]
    }
   ],
   "source": [
    "name=input(\"Enter the student name: \")\n",
    "std=input(\"Enter \"+name+\"'s class: \")\n",
    "div=input(\"Enter \"+name+\"'s class division: \")\n",
    "roll=int(input(\"Enter the roll number of \"+name+\": \"))\n",
    "sub1=float(input(\"Enter \"+name+\"'s mark in Maths: \"))\n",
    "sub2=float(input(\"Enter \"+name+\"'s mark in Physics: \"))\n",
    "sub3=float(input(\"Enter \"+name+\"'s mark in Chemistry: \"))\n"
   ]
  },
  {
   "cell_type": "markdown",
   "id": "c48c4fb6",
   "metadata": {},
   "source": [
    "# Calculating Percentage"
   ]
  },
  {
   "cell_type": "code",
   "execution_count": 2,
   "id": "9d95dba0",
   "metadata": {},
   "outputs": [],
   "source": [
    "percentage=((sub1+sub2+sub3)/300)*100"
   ]
  },
  {
   "cell_type": "markdown",
   "id": "db6b3876",
   "metadata": {},
   "source": [
    "# Printing Student Details"
   ]
  },
  {
   "cell_type": "code",
   "execution_count": 4,
   "id": "f5d13326",
   "metadata": {},
   "outputs": [
    {
     "name": "stdout",
     "output_type": "stream",
     "text": [
      "************Welcome to Student Portfolio****************\n",
      "Name of the Student: Kaushiki\n",
      "Class of the Student: 12\n",
      "Division of the Student: A\n",
      "Marks in Maths: 100.0\n",
      "Marks in Physics: 98.0\n",
      "Marks in Chemistry: 99.0\n",
      "Percentage Marks in three subjects: 99.0\n"
     ]
    }
   ],
   "source": [
    "print(\"************Welcome to Student Portfolio****************\")\n",
    "print(\"Name of the Student: \"+name)\n",
    "print(\"Class of the Student: \"+std)\n",
    "print(\"Division of the Student: \"+div)\n",
    "print(\"Marks in Maths: \"+str(sub1))\n",
    "print(\"Marks in Physics: \"+str(sub2))\n",
    "print(\"Marks in Chemistry: \"+str(sub3))\n",
    "print(\"Percentage Marks in three subjects: \"+str(percentage))\n"
   ]
  },
  {
   "cell_type": "code",
   "execution_count": null,
   "id": "823f6e5d",
   "metadata": {},
   "outputs": [],
   "source": []
  }
 ],
 "metadata": {
  "kernelspec": {
   "display_name": "Python 3 (ipykernel)",
   "language": "python",
   "name": "python3"
  },
  "language_info": {
   "codemirror_mode": {
    "name": "ipython",
    "version": 3
   },
   "file_extension": ".py",
   "mimetype": "text/x-python",
   "name": "python",
   "nbconvert_exporter": "python",
   "pygments_lexer": "ipython3",
   "version": "3.9.12"
  }
 },
 "nbformat": 4,
 "nbformat_minor": 5
}
